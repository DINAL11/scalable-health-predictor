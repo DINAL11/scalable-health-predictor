{
  "cells": [
    {
      "cell_type": "code",
      "execution_count": null,
      "id": "7cdcb6f2",
      "metadata": {
        "id": "7cdcb6f2"
      },
      "outputs": [],
      "source": [
        "#Data Cleaning and Processing\n",
        "#Environment Setup (For Mac Users)\n",
        "\n",
        "#Required Libraries\n",
        "#pandas numpy matplotlib seaborn scipy"
      ]
    },
    {
      "cell_type": "markdown",
      "source": [],
      "metadata": {
        "id": "I48DGz6monzt"
      },
      "id": "I48DGz6monzt"
    },
    {
      "cell_type": "code",
      "execution_count": 2,
      "id": "71daa5da",
      "metadata": {
        "id": "71daa5da",
        "outputId": "10bd1c12-f18f-4a79-df6a-4afad2683be6",
        "colab": {
          "base_uri": "https://localhost:8080/"
        }
      },
      "outputs": [
        {
          "output_type": "stream",
          "name": "stdout",
          "text": [
            "Cleaned data saved to: cleaned_data.csv\n"
          ]
        }
      ],
      "source": [
        "import pandas as pd\n",
        "import numpy as np\n",
        "from scipy.stats import zscore\n",
        "from google.colab import files\n",
        "\n",
        "# Load the dataset\n",
        "df = pd.read_csv('/content/Nutrition__Physical_Activity__and_Obesity_-_Behavioral_Risk_Factor_Surveillance_System.csv')\n",
        "\n",
        "\n",
        "# data cleaning\n",
        "# Focusing on Obseity/ Weight Status, and Education over 12 year spam only in the states with group of ages\n",
        "# limiting data - too much data\n",
        "# removing duplicates\n",
        "# removing outliers\n",
        "# Idenifying missing values\n",
        "# remove that value\n",
        "# Renaming columns\n",
        "# Removing white space, converting to lowercase for string type columns\n",
        "\n",
        "\n",
        "\n",
        "\n",
        "\n",
        "#filter rows to only obtain obesity or not\n",
        "new_df = df[df['Topic'].str.contains('Weight|Obesity', case=False, na=False)]\n",
        "\n",
        "#removing empty rows and Null values\n",
        "new_df = new_df[new_df['Education'].notna() & (new_df['Education'].str.strip() != \"\")]\n",
        "\n",
        "#filter the columns: to use age, location, year, and obesity, education\n",
        "new_df = new_df[['YearEnd', 'LocationDesc', 'Data_Value','Education']]\n",
        "\n",
        "#remove any duplicates in the data\n",
        "new_df = new_df.drop_duplicates()\n",
        "\n",
        "#rename columns\n",
        "new_df = new_df.rename(columns={\n",
        "   'YearEnd': 'Year',\n",
        "   'LocationDesc': 'State',\n",
        "   'Education': 'Education_Level',\n",
        "   'Data_Value': 'Obesity_Rate',\n",
        "   'Age': 'Age_Group'\n",
        "})\n",
        "\n",
        "\n",
        "#removing outliers\n",
        "n = new_df['Obesity_Rate'].quantile(0.25)\n",
        "n2 = new_df['Obesity_Rate'].quantile(0.75)\n",
        "IQR = n2 - n\n",
        "lower = n - 1.5 * IQR\n",
        "upper = n2 + 1.5 * IQR\n",
        "new_df = new_df[(new_df['Obesity_Rate'] >= lower) & (new_df['Obesity_Rate'] <= upper)]\n",
        "\n",
        "#remove white space and lowercase\n",
        "for col in new_df.select_dtypes(include=['object']).columns:\n",
        "   new_df[col] = new_df[col].str.strip().str.lower()\n",
        "\n",
        "\n",
        "cleaned_file_path = \"cleaned_data.csv\"\n",
        "new_df.to_csv(cleaned_file_path, index=False)\n",
        "\n",
        "print(f\"Cleaned data saved to: {cleaned_file_path}\")\n"
      ]
    },
    {
      "cell_type": "code",
      "source": [
        "#EDA\n",
        "\n",
        "#First we explored the new dataset structure along with viewing the first few rows\n",
        "print(new_df.info())\n",
        "\n",
        "#viewing first rows of data\n",
        "print(new_df.head())\n"
      ],
      "metadata": {
        "colab": {
          "base_uri": "https://localhost:8080/"
        },
        "id": "KvDigaZdcGc-",
        "outputId": "9071e851-29b2-46a0-a777-9c1101d69e91"
      },
      "id": "KvDigaZdcGc-",
      "execution_count": 3,
      "outputs": [
        {
          "output_type": "stream",
          "name": "stdout",
          "text": [
            "<class 'pandas.core.frame.DataFrame'>\n",
            "Index: 5344 entries, 14 to 104257\n",
            "Data columns (total 4 columns):\n",
            " #   Column           Non-Null Count  Dtype  \n",
            "---  ------           --------------  -----  \n",
            " 0   Year             5344 non-null   int64  \n",
            " 1   State            5344 non-null   object \n",
            " 2   Obesity_Rate     5344 non-null   float64\n",
            " 3   Education_Level  5344 non-null   object \n",
            "dtypes: float64(1), int64(1), object(2)\n",
            "memory usage: 208.8+ KB\n",
            "None\n",
            "     Year   State  Obesity_Rate                   Education_Level\n",
            "14   2011  alaska          25.8  some college or technical school\n",
            "91   2011  alaska          28.8             less than high school\n",
            "95   2011  alaska          33.1              high school graduate\n",
            "96   2011  alaska          38.0              high school graduate\n",
            "120  2011  alaska          35.3             less than high school\n"
          ]
        }
      ]
    },
    {
      "cell_type": "code",
      "source": [],
      "metadata": {
        "id": "-RYVW6rfcHaE"
      },
      "id": "-RYVW6rfcHaE",
      "execution_count": null,
      "outputs": []
    },
    {
      "cell_type": "markdown",
      "source": [],
      "metadata": {
        "id": "RM6nUQafcFWD"
      },
      "id": "RM6nUQafcFWD"
    },
    {
      "cell_type": "code",
      "source": [
        "#computing the mean, median, mode\n",
        "\n",
        "#we will calculate the mean, median, mode for each state over the 12 years\n",
        "\n",
        "mean_med_mode_each_state = new_df.groupby('State')['Obesity_Rate'].agg(['mean', 'median', lambda x: x.mode().iloc[0] if not x.mode().empty else None])\n",
        "\n",
        "#mode\n",
        "mean_med_mode_each_state = mean_med_mode_each_state.rename(columns={'<lambda_0>': 'mode'})\n",
        "\n",
        "#saving to csv\n",
        "mean_med_mode_each_state.to_csv(\"state_obesity_statistics.csv\")\n",
        "\n",
        "#seeing the first few rows\n",
        "\n",
        "print(mean_med_mode_each_state.head())\n",
        "\n"
      ],
      "metadata": {
        "colab": {
          "base_uri": "https://localhost:8080/"
        },
        "id": "Jeg3tNq5YoWG",
        "outputId": "7cf6f56c-4360-4b88-94b3-fdfea51d5b12"
      },
      "id": "Jeg3tNq5YoWG",
      "execution_count": 4,
      "outputs": [
        {
          "output_type": "stream",
          "name": "stdout",
          "text": [
            "                 mean  median  mode\n",
            "State                              \n",
            "alabama     34.772115   34.40  34.4\n",
            "alaska      33.097030   33.40  30.7\n",
            "arizona     33.174000   34.05  32.8\n",
            "arkansas    34.499029   34.20  33.2\n",
            "california  33.721978   34.70  35.6\n"
          ]
        }
      ]
    }
  ],
  "metadata": {
    "kernelspec": {
      "display_name": "Python 3 (ipykernel)",
      "language": "python",
      "name": "python3"
    },
    "language_info": {
      "codemirror_mode": {
        "name": "ipython",
        "version": 3
      },
      "file_extension": ".py",
      "mimetype": "text/x-python",
      "name": "python",
      "nbconvert_exporter": "python",
      "pygments_lexer": "ipython3",
      "version": "3.9.13"
    },
    "colab": {
      "provenance": []
    }
  },
  "nbformat": 4,
  "nbformat_minor": 5
}